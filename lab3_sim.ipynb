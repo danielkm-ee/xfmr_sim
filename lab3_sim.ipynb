{
 "cells": [
  {
   "cell_type": "code",
   "execution_count": 8,
   "id": "4e2ed762-d0ed-4e19-be99-d0eb1d3af925",
   "metadata": {},
   "outputs": [],
   "source": [
    "import numpy as np\n",
    "import cmath\n",
    "import matplotlib.pyplot as plt\n",
    "import numpy.typing as npt"
   ]
  },
  {
   "cell_type": "markdown",
   "id": "32cf8ee6-a4ee-4f66-8080-b31c721c7752",
   "metadata": {},
   "source": [
    "## Lab 3 Engineering Design\n",
    "### Deliverables:\n",
    "Simulation model of the 8341 Lab Volt 120-60/60V xfmr\n",
    "- Function that calculates the load-regulated voltage regulation given a complex load\n",
    "- Function that calculates the efficiency given a complex load\n",
    "- Function for flagging overcurrent conditions\n",
    "- Function for flagging over- and under-voltage contions"
   ]
  },
  {
   "cell_type": "code",
   "execution_count": 9,
   "id": "f6541e88-d50e-4d56-845d-f32a1be17e5e",
   "metadata": {},
   "outputs": [],
   "source": [
    "Rc = 5.9e3\n",
    "Xm = 5.78e3\n",
    "Req = 17.1\n",
    "Xeq = 22.6       # Ohms\n",
    "I_rated = 500e-3 # A\n",
    "V_rated = 120    # V\n",
    "S_rated = 55     # VA"
   ]
  },
  {
   "cell_type": "code",
   "execution_count": 39,
   "id": "fc2da886-b93b-4237-a8e0-a7136be370fa",
   "metadata": {},
   "outputs": [],
   "source": [
    "class _8341_xfmr():\n",
    "    \"\"\"\n",
    "    Simulation model of the 8341 xfmr\n",
    "    \"\"\"\n",
    "    def __init__(self, rc=Rc, xm=Xm, req=Req, xeq=Xeq, i_rated=I_rated, v_rated=V_rated):\n",
    "        self.rc = rc\n",
    "        self.xm = xm\n",
    "        self.req = req\n",
    "        self.xeq = xeq\n",
    "        self.i_rated = i_rated\n",
    "        self.v_rated = v_rated\n",
    "        self._vp = v_rated\n",
    "        return\n",
    "        \n",
    "    def run(self, s_load, theta):\n",
    "        \"\"\"\n",
    "        Determines the primary voltage required to provide rated current and voltage to\n",
    "        the load provided\n",
    "        \"\"\"\n",
    "        theta *= cmath.pi/180\n",
    "        self._vp = (self.req + self.xeq*1j)*(self.i_rated*np.cos(theta) - self.i_rated*np.sin(theta)*1j) + self.v_rated\n",
    "        return self._vp\n",
    "    \n",
    "    def load_reg(self, s_load, theta):\n",
    "        \"\"\"\n",
    "        Determines the load voltage regulation for the 8341 xfmr\n",
    "        for the load provided.\n",
    "        \"\"\"\n",
    "        vp = cmath.polar(self.run(s_load, theta))[0]\n",
    "        vnl = self.v_rated\n",
    "        return np.abs((vp - vnl))/vp * 100\n",
    "        \n",
    "    def efficiency(self, s_load, theta):\n",
    "        \"\"\"\n",
    "        Determines the efficiency of the 8341 xfmr achievable for the\n",
    "        load provided.\n",
    "        \"\"\"\n",
    "        theta *= cmath.pi/180\n",
    "        vp    = cmath.polar(self.run(s_load, theta))[0]\n",
    "        pout  = s_load*np.cos(theta)\n",
    "        pcore = (vp**2)/self.rc\n",
    "        pcu   = self.i_rated**2 * self.req\n",
    "        eff   = (pout / (pout + pcore + pcu) ) * 100\n",
    "        return eff\n",
    "\n",
    "    def current_check(self, i_line, c_i):\n",
    "        \"\"\"\n",
    "        Gives notice if i_line will exceed current rating\n",
    "        \"\"\"\n",
    "        res = not(i_line < c_i*self.i_rated)\n",
    "        print(res)\n",
    "        return res\n",
    "        \n",
    "    def voltage_check(self, vp, c_vo, c_vu):\n",
    "        \"\"\"\n",
    "        Gives notice if primary voltage is over or undervoltage\n",
    "        \"\"\"\n",
    "        v_over = not(vp > c_vu * self.v_rated)\n",
    "        v_under = not(vp < c_vo * self.v_rated)\n",
    "        print(v_over, v_under)"
   ]
  },
  {
   "cell_type": "code",
   "execution_count": 41,
   "id": "9d5f3dd9-1f18-4019-8d56-6c6c87d8201b",
   "metadata": {},
   "outputs": [
    {
     "data": {
      "text/plain": [
       "np.complex128(134.06108706276416-1.7545172023569497j)"
      ]
     },
     "metadata": {},
     "output_type": "display_data"
    },
    {
     "data": {
      "text/plain": [
       "np.float64(10.496231923244666)"
      ]
     },
     "metadata": {},
     "output_type": "display_data"
    },
    {
     "name": "stdout",
     "output_type": "stream",
     "text": [
      "False\n",
      "True False\n",
      "False True\n"
     ]
    }
   ],
   "source": [
    "xfmr = _8341_xfmr()\n",
    "display(xfmr.run(20, 60), xfmr.load_reg(20, 60))\n",
    "xfmr.efficiency(10, 10)\n",
    "xfmr.current_check(0.4, 1)\n",
    "xfmr.voltage_check(100, 1, 1)\n",
    "xfmr.voltage_check(300, 1, 1)"
   ]
  },
  {
   "cell_type": "code",
   "execution_count": 25,
   "id": "550f177a-d2c4-42e2-8816-5a209c17686c",
   "metadata": {},
   "outputs": [
    {
     "data": {
      "text/plain": [
       "(1.4142135623730951, 0.7853981633974483)"
      ]
     },
     "execution_count": 25,
     "metadata": {},
     "output_type": "execute_result"
    }
   ],
   "source": [
    "cmath.polar(1 + 1j)"
   ]
  },
  {
   "cell_type": "code",
   "execution_count": null,
   "id": "88e01e87-c9f5-411f-956e-1a6157df58c7",
   "metadata": {},
   "outputs": [],
   "source": []
  }
 ],
 "metadata": {
  "kernelspec": {
   "display_name": "Python 3 (ipykernel)",
   "language": "python",
   "name": "python3"
  },
  "language_info": {
   "codemirror_mode": {
    "name": "ipython",
    "version": 3
   },
   "file_extension": ".py",
   "mimetype": "text/x-python",
   "name": "python",
   "nbconvert_exporter": "python",
   "pygments_lexer": "ipython3",
   "version": "3.13.0"
  }
 },
 "nbformat": 4,
 "nbformat_minor": 5
}
